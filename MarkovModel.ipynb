{
 "cells": [
  {
   "cell_type": "code",
   "execution_count": 1,
   "metadata": {
    "collapsed": true,
    "deletable": true,
    "editable": true
   },
   "outputs": [],
   "source": [
    "import pandas as pd\n",
    "data = pd.read_csv(\"weather_march_2018.csv\")"
   ]
  },
  {
   "cell_type": "code",
   "execution_count": 2,
   "metadata": {
    "collapsed": false,
    "deletable": true,
    "editable": true
   },
   "outputs": [
    {
     "data": {
      "text/html": [
       "<div>\n",
       "<style>\n",
       "    .dataframe thead tr:only-child th {\n",
       "        text-align: right;\n",
       "    }\n",
       "\n",
       "    .dataframe thead th {\n",
       "        text-align: left;\n",
       "    }\n",
       "\n",
       "    .dataframe tbody tr th {\n",
       "        vertical-align: top;\n",
       "    }\n",
       "</style>\n",
       "<table border=\"1\" class=\"dataframe\">\n",
       "  <thead>\n",
       "    <tr style=\"text-align: right;\">\n",
       "      <th></th>\n",
       "      <th>Date</th>\n",
       "      <th>Max</th>\n",
       "      <th>Min</th>\n",
       "      <th>Av</th>\n",
       "      <th>Forecast</th>\n",
       "    </tr>\n",
       "  </thead>\n",
       "  <tbody>\n",
       "    <tr>\n",
       "      <th>0</th>\n",
       "      <td>3/1/2018</td>\n",
       "      <td>64</td>\n",
       "      <td>47</td>\n",
       "      <td>55.5</td>\n",
       "      <td>Cloudy</td>\n",
       "    </tr>\n",
       "    <tr>\n",
       "      <th>1</th>\n",
       "      <td>3/2/2018</td>\n",
       "      <td>72</td>\n",
       "      <td>43</td>\n",
       "      <td>57.5</td>\n",
       "      <td>Cloudy</td>\n",
       "    </tr>\n",
       "    <tr>\n",
       "      <th>2</th>\n",
       "      <td>3/3/2018</td>\n",
       "      <td>75</td>\n",
       "      <td>50</td>\n",
       "      <td>62.5</td>\n",
       "      <td>Sunny</td>\n",
       "    </tr>\n",
       "    <tr>\n",
       "      <th>3</th>\n",
       "      <td>3/4/2018</td>\n",
       "      <td>72</td>\n",
       "      <td>63</td>\n",
       "      <td>67.5</td>\n",
       "      <td>Cloudy</td>\n",
       "    </tr>\n",
       "    <tr>\n",
       "      <th>4</th>\n",
       "      <td>3/5/2018</td>\n",
       "      <td>73</td>\n",
       "      <td>51</td>\n",
       "      <td>62.0</td>\n",
       "      <td>Cloudy</td>\n",
       "    </tr>\n",
       "    <tr>\n",
       "      <th>5</th>\n",
       "      <td>3/6/2018</td>\n",
       "      <td>69</td>\n",
       "      <td>41</td>\n",
       "      <td>55.0</td>\n",
       "      <td>Sunny</td>\n",
       "    </tr>\n",
       "    <tr>\n",
       "      <th>6</th>\n",
       "      <td>3/7/2018</td>\n",
       "      <td>62</td>\n",
       "      <td>38</td>\n",
       "      <td>50.0</td>\n",
       "      <td>Sunny</td>\n",
       "    </tr>\n",
       "    <tr>\n",
       "      <th>7</th>\n",
       "      <td>3/8/2018</td>\n",
       "      <td>72</td>\n",
       "      <td>43</td>\n",
       "      <td>57.5</td>\n",
       "      <td>Sunny</td>\n",
       "    </tr>\n",
       "    <tr>\n",
       "      <th>8</th>\n",
       "      <td>3/9/2018</td>\n",
       "      <td>78</td>\n",
       "      <td>52</td>\n",
       "      <td>65.0</td>\n",
       "      <td>Sunny</td>\n",
       "    </tr>\n",
       "    <tr>\n",
       "      <th>9</th>\n",
       "      <td>3/10/2018</td>\n",
       "      <td>85</td>\n",
       "      <td>63</td>\n",
       "      <td>74.0</td>\n",
       "      <td>Sunny</td>\n",
       "    </tr>\n",
       "  </tbody>\n",
       "</table>\n",
       "</div>"
      ],
      "text/plain": [
       "        Date  Max  Min    Av Forecast\n",
       "0   3/1/2018   64   47  55.5   Cloudy\n",
       "1   3/2/2018   72   43  57.5   Cloudy\n",
       "2   3/3/2018   75   50  62.5    Sunny\n",
       "3   3/4/2018   72   63  67.5   Cloudy\n",
       "4   3/5/2018   73   51  62.0   Cloudy\n",
       "5   3/6/2018   69   41  55.0    Sunny\n",
       "6   3/7/2018   62   38  50.0    Sunny\n",
       "7   3/8/2018   72   43  57.5    Sunny\n",
       "8   3/9/2018   78   52  65.0    Sunny\n",
       "9  3/10/2018   85   63  74.0    Sunny"
      ]
     },
     "execution_count": 2,
     "metadata": {},
     "output_type": "execute_result"
    }
   ],
   "source": [
    "data.head(10)"
   ]
  },
  {
   "cell_type": "markdown",
   "metadata": {
    "deletable": true,
    "editable": true
   },
   "source": [
    "https://www.timeanddate.com/weather/usa/dallas/historic?month=3&year=2018\n",
    "\n",
    "https://www.iweathernet.com/texas-dfw-weather-records"
   ]
  },
  {
   "cell_type": "code",
   "execution_count": 4,
   "metadata": {
    "collapsed": false,
    "deletable": true,
    "editable": true
   },
   "outputs": [],
   "source": [
    "#Calculating initial probabilities\n",
    "counts = data['Forecast'].value_counts().to_dict()\n",
    "total_counts = data['Forecast'].count()\n",
    "initial_prob ={}\n",
    "for i in counts:\n",
    "    prob_i = counts[i]/total_counts\n",
    "    if i not in initial_prob:\n",
    "        initial_prob[i] = prob_i\n",
    "\n",
    "#Calculating transition probabilities\n",
    "def get_bigrams(data):\n",
    "    bigrams={}\n",
    "    l = list(data)\n",
    "    for j in range(1,len(l)):\n",
    "        if(l[j-1],l[j]) in bigrams:\n",
    "            bigrams[l[j-1],l[j]]+=1\n",
    "        else:\n",
    "            bigrams[l[j-1],l[j]]=1\n",
    "    return(bigrams)\n",
    "        \n",
    "trans_prob ={}\n",
    "\n",
    "bigrams = get_bigrams(data['Forecast'])\n",
    "q = list(initial_prob.keys())\n",
    "\n",
    "for i in range(len(q)):\n",
    "    for j in range(len(q)):\n",
    "        if (q[i],q[j]) in bigrams:\n",
    "            if q[i] in trans_prob:\n",
    "                trans_prob[q[i]][q[j]] = bigrams[(q[i],q[j])] / counts[q[i]]\n",
    "            else:\n",
    "                trans_prob[q[i]] = {}\n",
    "                trans_prob[q[i]][q[j]] = bigrams[(q[i],q[j])] / counts[q[i]]\n",
    "                \n",
    "        else:\n",
    "            if q[i] in trans_prob:\n",
    "                trans_prob[q[i]][q[j]] = 0\n",
    "            else:\n",
    "                trans_prob[q[i]] = {}\n",
    "                trans_prob[q[i]][q[j]] = 0"
   ]
  },
  {
   "cell_type": "code",
   "execution_count": 5,
   "metadata": {
    "collapsed": false,
    "deletable": true,
    "editable": true
   },
   "outputs": [
    {
     "name": "stdout",
     "output_type": "stream",
     "text": [
      "Initial Probabilities \n",
      " {'Sunny': 0.54838709677419351, 'Cloudy': 0.32258064516129031, 'Foggy': 0.064516129032258063, 'Rainy': 0.064516129032258063}\n",
      "States \n",
      " ['Sunny', 'Cloudy', 'Foggy', 'Rainy']\n",
      "Transition Probabilities \n",
      " {'Sunny': {'Sunny': 0.70588235294117652, 'Cloudy': 0.17647058823529413, 'Foggy': 0, 'Rainy': 0.058823529411764705}, 'Cloudy': {'Sunny': 0.29999999999999999, 'Cloudy': 0.5, 'Foggy': 0.20000000000000001, 'Rainy': 0}, 'Foggy': {'Sunny': 1.0, 'Cloudy': 0, 'Foggy': 0, 'Rainy': 0}, 'Rainy': {'Sunny': 0, 'Cloudy': 0.5, 'Foggy': 0, 'Rainy': 0.5}}\n"
     ]
    }
   ],
   "source": [
    "print(\"Initial Probabilities \\n\",initial_prob)\n",
    "print(\"States \\n\", q)\n",
    "print(\"Transition Probabilities \\n\",trans_prob)"
   ]
  },
  {
   "cell_type": "code",
   "execution_count": 11,
   "metadata": {
    "collapsed": false,
    "deletable": true,
    "editable": true
   },
   "outputs": [
    {
     "name": "stdout",
     "output_type": "stream",
     "text": [
      "Enter the input sequence: \n",
      "Sunny Sunny Sunny Sunny Sunny Sunny\n"
     ]
    }
   ],
   "source": [
    "in_str = input(\"Enter the input sequence: \\n\")\n",
    "#Sunny Sunny Sunny Sunny Sunny Sunny"
   ]
  },
  {
   "cell_type": "code",
   "execution_count": 12,
   "metadata": {
    "collapsed": true,
    "deletable": true,
    "editable": true
   },
   "outputs": [],
   "source": [
    "string = in_str.split(\" \")"
   ]
  },
  {
   "cell_type": "code",
   "execution_count": 13,
   "metadata": {
    "collapsed": true,
    "deletable": true,
    "editable": true
   },
   "outputs": [],
   "source": [
    "def calc_probability(string,initial_prob,trans_prob):\n",
    "    prob = 1\n",
    "    prob *= initial_prob[string[0]]\n",
    "    print(\"Probability when transiting from Start ->  \"+string[0]+\" = \"+str(prob))\n",
    "    for j in range(len(string)):\n",
    "        print(\"Transition Probability of \"+string[j-1]+\" ---> \"+string[j]+\" = \"+str(trans_prob[string[j-1]][string[j]]))\n",
    "        prob *= trans_prob[string[j-1]][string[j]]\n",
    "    return(prob)"
   ]
  },
  {
   "cell_type": "code",
   "execution_count": 14,
   "metadata": {
    "collapsed": false,
    "deletable": true,
    "editable": true
   },
   "outputs": [
    {
     "name": "stdout",
     "output_type": "stream",
     "text": [
      "Probability when transiting from Start ->  Sunny = 0.548387096774\n",
      "Transition Probability of Sunny ---> Sunny = 0.705882352941\n",
      "Transition Probability of Sunny ---> Sunny = 0.705882352941\n",
      "Transition Probability of Sunny ---> Sunny = 0.705882352941\n",
      "Transition Probability of Sunny ---> Sunny = 0.705882352941\n",
      "Transition Probability of Sunny ---> Sunny = 0.705882352941\n",
      "Transition Probability of Sunny ---> Sunny = 0.705882352941\n",
      "The probability of the sequence [Sunny Sunny Sunny Sunny Sunny Sunny] occurring =  0.0678392715014\n"
     ]
    }
   ],
   "source": [
    "prob = calc_probability(string,initial_prob, trans_prob)\n",
    "print(\"The probability of the sequence [\"+in_str+\"] occurring = \", prob)"
   ]
  }
 ],
 "metadata": {
  "kernelspec": {
   "display_name": "Python 3",
   "language": "python",
   "name": "python3"
  },
  "language_info": {
   "codemirror_mode": {
    "name": "ipython",
    "version": 3
   },
   "file_extension": ".py",
   "mimetype": "text/x-python",
   "name": "python",
   "nbconvert_exporter": "python",
   "pygments_lexer": "ipython3",
   "version": "3.5.2"
  }
 },
 "nbformat": 4,
 "nbformat_minor": 2
}
